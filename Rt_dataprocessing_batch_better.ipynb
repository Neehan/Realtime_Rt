{
  "nbformat": 4,
  "nbformat_minor": 0,
  "metadata": {
    "colab": {
      "name": "Rt-dataprocessing-batch-better.ipynb",
      "provenance": [],
      "collapsed_sections": [],
      "authorship_tag": "ABX9TyPLmowvk4tg1KDcET+k8ITf",
      "include_colab_link": true
    },
    "kernelspec": {
      "name": "python3",
      "display_name": "Python 3"
    },
    "language_info": {
      "name": "python"
    }
  },
  "cells": [
    {
      "cell_type": "markdown",
      "metadata": {
        "id": "view-in-github",
        "colab_type": "text"
      },
      "source": [
        "<a href=\"https://colab.research.google.com/github/Neehan/Realtime_Rt/blob/master/Rt_dataprocessing_batch_better.ipynb\" target=\"_parent\"><img src=\"https://colab.research.google.com/assets/colab-badge.svg\" alt=\"Open In Colab\"/></a>"
      ]
    },
    {
      "cell_type": "markdown",
      "metadata": {
        "id": "17bk_BrzL9Q7"
      },
      "source": [
        "This is the version of the code that does a batch run on all the districts of interest. For now it does it only using the new method, as the old method is somehow not converging well. \n",
        "\n",
        "Trying to organize the data management a bit better. "
      ]
    },
    {
      "cell_type": "code",
      "metadata": {
        "id": "BDyjP1k_LRN1",
        "colab": {
          "base_uri": "https://localhost:8080/"
        },
        "outputId": "8abcbdf9-7bd6-4039-cd58-c71a4ddfdfee"
      },
      "source": [
        "from google.colab import drive\n",
        "drive.mount('/content/drive')"
      ],
      "execution_count": 1,
      "outputs": [
        {
          "output_type": "stream",
          "text": [
            "Mounted at /content/drive\n"
          ],
          "name": "stdout"
        }
      ]
    },
    {
      "cell_type": "code",
      "metadata": {
        "id": "U6RvBWf0Nhlo",
        "colab": {
          "base_uri": "https://localhost:8080/"
        },
        "outputId": "5ca7df8b-2289-4adf-a135-f4a24f91f885"
      },
      "source": [
        "!pip install arviz==0.11.0\n",
        "!pip install pymc3==3.8\n",
        "\n",
        "import pandas as pd\n",
        "import numpy as np\n",
        "import matplotlib.pyplot as plt\n",
        "import pymc3 as pm\n",
        "import arviz as az\n",
        "import theano.tensor as tt\n",
        "from datetime import date\n",
        "import os\n",
        "\n"
      ],
      "execution_count": 2,
      "outputs": [
        {
          "output_type": "stream",
          "text": [
            "Collecting arviz==0.11.0\n",
            "\u001b[?25l  Downloading https://files.pythonhosted.org/packages/23/8f/30de69e6309ab7231bde1c9cfb8702511f7989bb18093b78bf1ef067f5f2/arviz-0.11.0-py3-none-any.whl (1.5MB)\n",
            "\u001b[K     |████████████████████████████████| 1.6MB 5.2MB/s \n",
            "\u001b[?25hRequirement already satisfied: numpy>=1.12 in /usr/local/lib/python3.7/dist-packages (from arviz==0.11.0) (1.19.5)\n",
            "Requirement already satisfied: typing-extensions<4,>=3.7.4.3 in /usr/local/lib/python3.7/dist-packages (from arviz==0.11.0) (3.7.4.3)\n",
            "Requirement already satisfied: pandas>=0.23 in /usr/local/lib/python3.7/dist-packages (from arviz==0.11.0) (1.1.5)\n",
            "Collecting netcdf4\n",
            "\u001b[?25l  Downloading https://files.pythonhosted.org/packages/37/56/f65978898fb8e7e5df9c67531d86eb24eb04938deae3b61dbcce12c98212/netCDF4-1.5.6-cp37-cp37m-manylinux2014_x86_64.whl (4.7MB)\n",
            "\u001b[K     |████████████████████████████████| 4.7MB 17.7MB/s \n",
            "\u001b[?25hRequirement already satisfied: scipy>=0.19 in /usr/local/lib/python3.7/dist-packages (from arviz==0.11.0) (1.4.1)\n",
            "Collecting xarray>=0.16.1\n",
            "\u001b[?25l  Downloading https://files.pythonhosted.org/packages/a5/19/debc1f470b8b9e2949da221663c8102ed6728f4d38dc964085ca43de1428/xarray-0.17.0-py3-none-any.whl (759kB)\n",
            "\u001b[K     |████████████████████████████████| 768kB 49.6MB/s \n",
            "\u001b[?25hRequirement already satisfied: packaging in /usr/local/lib/python3.7/dist-packages (from arviz==0.11.0) (20.9)\n",
            "Requirement already satisfied: matplotlib>=3.0 in /usr/local/lib/python3.7/dist-packages (from arviz==0.11.0) (3.2.2)\n",
            "Requirement already satisfied: setuptools>=38.4 in /usr/local/lib/python3.7/dist-packages (from arviz==0.11.0) (54.2.0)\n",
            "Requirement already satisfied: pytz>=2017.2 in /usr/local/lib/python3.7/dist-packages (from pandas>=0.23->arviz==0.11.0) (2018.9)\n",
            "Requirement already satisfied: python-dateutil>=2.7.3 in /usr/local/lib/python3.7/dist-packages (from pandas>=0.23->arviz==0.11.0) (2.8.1)\n",
            "Collecting cftime\n",
            "\u001b[?25l  Downloading https://files.pythonhosted.org/packages/41/e0/3e120cca16571c5ee3b35f1ed432c2aae5dc91e2b789e8b9c3a70e721ea0/cftime-1.4.1-cp37-cp37m-manylinux2014_x86_64.whl (313kB)\n",
            "\u001b[K     |████████████████████████████████| 317kB 47.8MB/s \n",
            "\u001b[?25hRequirement already satisfied: pyparsing>=2.0.2 in /usr/local/lib/python3.7/dist-packages (from packaging->arviz==0.11.0) (2.4.7)\n",
            "Requirement already satisfied: kiwisolver>=1.0.1 in /usr/local/lib/python3.7/dist-packages (from matplotlib>=3.0->arviz==0.11.0) (1.3.1)\n",
            "Requirement already satisfied: cycler>=0.10 in /usr/local/lib/python3.7/dist-packages (from matplotlib>=3.0->arviz==0.11.0) (0.10.0)\n",
            "Requirement already satisfied: six>=1.5 in /usr/local/lib/python3.7/dist-packages (from python-dateutil>=2.7.3->pandas>=0.23->arviz==0.11.0) (1.15.0)\n",
            "Installing collected packages: cftime, netcdf4, xarray, arviz\n",
            "  Found existing installation: xarray 0.15.1\n",
            "    Uninstalling xarray-0.15.1:\n",
            "      Successfully uninstalled xarray-0.15.1\n",
            "Successfully installed arviz-0.11.0 cftime-1.4.1 netcdf4-1.5.6 xarray-0.17.0\n",
            "Collecting pymc3==3.8\n",
            "\u001b[?25l  Downloading https://files.pythonhosted.org/packages/32/19/6c94cbadb287745ac38ff1197b9fadd66500b6b9c468e79099b110c6a2e9/pymc3-3.8-py3-none-any.whl (908kB)\n",
            "\u001b[K     |████████████████████████████████| 911kB 4.3MB/s \n",
            "\u001b[?25hRequirement already satisfied: h5py>=2.7.0 in /usr/local/lib/python3.7/dist-packages (from pymc3==3.8) (2.10.0)\n",
            "Requirement already satisfied: pandas>=0.18.0 in /usr/local/lib/python3.7/dist-packages (from pymc3==3.8) (1.1.5)\n",
            "Requirement already satisfied: tqdm>=4.8.4 in /usr/local/lib/python3.7/dist-packages (from pymc3==3.8) (4.41.1)\n",
            "Requirement already satisfied: scipy>=0.18.1 in /usr/local/lib/python3.7/dist-packages (from pymc3==3.8) (1.4.1)\n",
            "Requirement already satisfied: theano>=1.0.4 in /usr/local/lib/python3.7/dist-packages (from pymc3==3.8) (1.0.5)\n",
            "Requirement already satisfied: arviz>=0.4.1 in /usr/local/lib/python3.7/dist-packages (from pymc3==3.8) (0.11.0)\n",
            "Requirement already satisfied: patsy>=0.4.0 in /usr/local/lib/python3.7/dist-packages (from pymc3==3.8) (0.5.1)\n",
            "Requirement already satisfied: numpy>=1.13.0 in /usr/local/lib/python3.7/dist-packages (from pymc3==3.8) (1.19.5)\n",
            "Requirement already satisfied: six in /usr/local/lib/python3.7/dist-packages (from h5py>=2.7.0->pymc3==3.8) (1.15.0)\n",
            "Requirement already satisfied: python-dateutil>=2.7.3 in /usr/local/lib/python3.7/dist-packages (from pandas>=0.18.0->pymc3==3.8) (2.8.1)\n",
            "Requirement already satisfied: pytz>=2017.2 in /usr/local/lib/python3.7/dist-packages (from pandas>=0.18.0->pymc3==3.8) (2018.9)\n",
            "Requirement already satisfied: matplotlib>=3.0 in /usr/local/lib/python3.7/dist-packages (from arviz>=0.4.1->pymc3==3.8) (3.2.2)\n",
            "Requirement already satisfied: xarray>=0.16.1 in /usr/local/lib/python3.7/dist-packages (from arviz>=0.4.1->pymc3==3.8) (0.17.0)\n",
            "Requirement already satisfied: packaging in /usr/local/lib/python3.7/dist-packages (from arviz>=0.4.1->pymc3==3.8) (20.9)\n",
            "Requirement already satisfied: netcdf4 in /usr/local/lib/python3.7/dist-packages (from arviz>=0.4.1->pymc3==3.8) (1.5.6)\n",
            "Requirement already satisfied: setuptools>=38.4 in /usr/local/lib/python3.7/dist-packages (from arviz>=0.4.1->pymc3==3.8) (54.2.0)\n",
            "Requirement already satisfied: typing-extensions<4,>=3.7.4.3 in /usr/local/lib/python3.7/dist-packages (from arviz>=0.4.1->pymc3==3.8) (3.7.4.3)\n",
            "Requirement already satisfied: cycler>=0.10 in /usr/local/lib/python3.7/dist-packages (from matplotlib>=3.0->arviz>=0.4.1->pymc3==3.8) (0.10.0)\n",
            "Requirement already satisfied: kiwisolver>=1.0.1 in /usr/local/lib/python3.7/dist-packages (from matplotlib>=3.0->arviz>=0.4.1->pymc3==3.8) (1.3.1)\n",
            "Requirement already satisfied: pyparsing!=2.0.4,!=2.1.2,!=2.1.6,>=2.0.1 in /usr/local/lib/python3.7/dist-packages (from matplotlib>=3.0->arviz>=0.4.1->pymc3==3.8) (2.4.7)\n",
            "Requirement already satisfied: cftime in /usr/local/lib/python3.7/dist-packages (from netcdf4->arviz>=0.4.1->pymc3==3.8) (1.4.1)\n",
            "Installing collected packages: pymc3\n",
            "  Found existing installation: pymc3 3.7\n",
            "    Uninstalling pymc3-3.7:\n",
            "      Successfully uninstalled pymc3-3.7\n",
            "Successfully installed pymc3-3.8\n"
          ],
          "name": "stdout"
        }
      ]
    },
    {
      "cell_type": "markdown",
      "metadata": {
        "id": "-eP8eKvkuNzf"
      },
      "source": [
        "First, set up the code. Here is a function that computes everything. "
      ]
    },
    {
      "cell_type": "code",
      "metadata": {
        "id": "MYV9m2A5OfoW"
      },
      "source": [
        "\n",
        "# disease parameters:\n",
        "serial_interval = 7\n",
        "\n",
        "# this is the total number (Mahi tells me its reasonable. Nothing really depends on this unless it evolves in time)\n",
        "N = 50000\n",
        "\n",
        "# define a function\n",
        "def findRts(tests,deltaCases,dates):\n",
        "  # this is a number choosing how many dates to offset by. \n",
        "  offset = 0;\n",
        "  #deltaCases = deltaCases[offset:]\n",
        "  #tests = tests[offset:]\n",
        "  startDate = dates[offset]\n",
        "\n",
        "  positivity = deltaCases/tests;\n",
        "  # shift them forward by 1.\n",
        "\n",
        "  deltaCases_future = deltaCases[1:];\n",
        "  deltaCases_past = deltaCases[:-1]\n",
        "\n",
        "  # make a plot of the positivity ratio \n",
        "  #plt.plot(positivity)\n",
        "  #plt.xlabel(\"Day\")\n",
        "  #plt.ylabel(\"Measured positivity\")\n",
        "\n",
        "  # this is the new one. \n",
        "  Rt_model = pm.Model()\n",
        "\n",
        "\n",
        "  # okay this is the dynamics of the infection rate. each day is given by a Poisson distribution\n",
        "  # of the day before (...except not, because I use the Gaussian approximation to Poisson: the numbers\n",
        "  # are high enough that it doesn't matter, and it seems NUTS > Metropolis)\n",
        "\n",
        "  class PoissonWalk(pm.Continuous):\n",
        "    def __init__(self,Rt,*args,**kwargs):\n",
        "      super().__init__(*args,**kwargs)\n",
        "      self.Rt = tt.as_tensor_variable(Rt)\n",
        "      #self.mode=tt.as_tensor_variable(1.0)\n",
        "\n",
        "    # I don't think this is necessary? \n",
        "    def random(self, point=None, size=None):\n",
        "      raise NotImplementedError(\"Haven't implemented this yet\")\n",
        "    \n",
        "    def logp(self,x):\n",
        "      Rt = self.Rt\n",
        "      x_im1 = x[:-1]\n",
        "      x_i = x[1:]\n",
        "      # I'm using a continuous distribution because they are better for NUTS-ing\n",
        "      # the mean and the variance of this thing are the same (its the Gaussian limit of the Poisson)\n",
        "      innov_like = pm.Normal.dist(mu=x_im1*pm.math.exp((Rt[:-1]-1)/serial_interval),sigma=pm.math.sqrt(x_im1*pm.math.exp((Rt[:-1]-1)/serial_interval))).logp(x_i)\n",
        "      return tt.sum(innov_like)\n",
        "\n",
        "  # okay, now try build the model\n",
        "  with Rt_model:\n",
        "    # Give Rt the prior that it is a random walk with Gaussian deviations\n",
        "    sigma = pm.Exponential('sigma',1/0.02)\n",
        "    Rt = pm.GaussianRandomWalk('Rt',sigma=sigma,shape=len(deltaCases))\n",
        "\n",
        "    # put in the quasi-deterministic behavior of It\n",
        "    # I think this goes bad if there are every zero cases; let me fix this\n",
        "    safeInit = deltaCases;\n",
        "    safeInit[safeInit==0] = 1;\n",
        "\n",
        "    It = PoissonWalk('It',Rt=Rt,shape=len(deltaCases),testval=safeInit)\n",
        "    # I initialize it on the number of actual cases, this isnt important as it finds its own way.\n",
        "\n",
        "    # next, a distribution on the number of observed cases (there is no hypergeometric in pymc3! using binomial instead)\n",
        "    Pt = pm.Binomial('Pt',n=tests,p=It/N,observed = deltaCases)\n",
        "\n",
        "\n",
        "  with Rt_model:\n",
        "    trace=pm.sample(4000,tune=1000)\n",
        "    #trace = pm.sample(5,tune=5)\n",
        "    #pm.traceplot(trace,varnames=['sigma'])\n",
        "    #pm.summary(trace,varnames=['Rt'])\n",
        "\n",
        "  \n",
        "  # finally make the version of the plot that is output\n",
        "  plt.figure()\n",
        "  hdis = az.hdi(trace['Rt'],hdi_prob=0.9)\n",
        "  #plt.plot(hdis,'C2')\n",
        "  #plt.plot(hdis[:,1])\n",
        "  plt.plot(np.mean(trace['Rt'],axis=0),'k')\n",
        "  plt.plot(np.ones(len(deltaCases)),'r')\n",
        "  plt.fill_between(range(len(deltaCases)),hdis[:,0],hdis[:,1],alpha=0.2)\n",
        "  plt.xlabel('Days since ' + startDate)\n",
        "  plt.ylabel('R(t)')\n",
        "  plt.title('R(t) ' + d + ' (corrected for testing levels)')\n",
        "  plt.annotate('Generated on ' + date.today().strftime(\"%Y-%m-%d\"),xy=(5, 5),xycoords='figure points',style='italic',fontsize='7')\n",
        "  # okay, now save the values\n",
        "  plt.savefig(folder + '/' + d + '.png')\n",
        "  plt.show()\n",
        "\n",
        "  Rtfinal = np.mean(trace['Rt'],axis=0)[-1];\n",
        "  hdi_low = hdis[-1,0];\n",
        "  hdi_high = hdis[-1,1];\n",
        "  doubling_rate = (serial_interval * np.log(2))/(Rtfinal-1)\n",
        "\n",
        "  return (Rtfinal, hdi_low, hdi_high,doubling_rate);\n",
        "\n",
        "\n"
      ],
      "execution_count": 3,
      "outputs": []
    },
    {
      "cell_type": "code",
      "metadata": {
        "colab": {
          "base_uri": "https://localhost:8080/"
        },
        "id": "8_nl_X9dtJ3D",
        "outputId": "301e5ee2-0082-4b8a-fa94-1afe985a1c55"
      },
      "source": [
        "\n",
        "# read the data:\n",
        "#data=pd.read_csv('./drive/My Drive/Rt tracker/Output files/a2i data exchange/input/a2i_data.csv')\n",
        "\n",
        "date_today = date.today().strftime('%Y-%m-%d')\n",
        "data = pd.read_csv(f'http://cdr.a2i.gov.bd/positive_case_data/{date_today}.csv')\n",
        "data['district'] = data['district'].str.title()\n",
        "\n",
        "# okay, first extract a list of district names\n",
        "all_districts = data['district']\n",
        "districts = [];\n",
        "\n",
        "for d in all_districts:\n",
        "  if (d not in districts and isinstance(d,str)):\n",
        "    districts.append(d);\n",
        "\n",
        "# now we have a list of unique districts\n",
        "print(districts)\n",
        "\n",
        "# however they actually want a list of high-risk districts, get that first\n",
        "highrisk_data=pd.read_csv('./drive/My Drive/Rt tracker/Data/ThirdWave/high_risk.csv');\n",
        "highrisk_districts = highrisk_data['District'].to_list()\n",
        "\n",
        "# create some things to hold everything\n",
        "\n",
        "all_Rts = [];\n",
        "all_hdis_low = [];\n",
        "all_hdis_high = [];\n",
        "all_doublings = [];\n",
        "\n",
        "#print(highrisk_districts)\n",
        "\n",
        "districts_todo = ['National','National except CTG DHK','Chattogram','Dhaka','Khulna','Rajshahi']\n",
        "#districts_todo = ['Chattogram','Dhaka','Khulna','Rajshahi']"
      ],
      "execution_count": 4,
      "outputs": [
        {
          "output_type": "stream",
          "text": [
            "['Barguna', 'Barishal', 'Patuakhali', 'Pirojpur', 'Chattogram', 'Dinajpur', 'Narayanganj', 'Natore', 'Dhaka', 'Pabna', 'Noakhali', 'Naogaon', 'Thakurgaon', 'Gazipur', 'Sirajganj', 'Bogura', 'Bhola', 'Chuadanga', 'Jhalokati', 'Meherpur', 'Rajbari', 'Gaibandha', 'Sylhet', 'Faridpur', 'Gopalganj', 'Magura', 'Narsingdi', 'Panchagarh', 'Coxs Bazar', 'Jamalpur', 'Kishoreganj', 'Moulvibazar', 'Mymensingh', 'Netrakona', 'Rajshahi', 'Sunamganj', 'Tangail', 'Chandpur', 'Cumilla', 'Sherpur', 'Kurigram', 'Madaripur', 'Rangpur', 'Satkhira', 'Bandarban', 'Brahmanbaria', 'Habiganj', 'Kushtia', 'Lalmonirhat', 'Manikganj', 'Nilphamari', 'Shariatpur', 'Bagerhat', 'Jashore', 'Khulna', 'Feni', 'Lakshmipur', 'Munshiganj', 'Narail', 'Jhenaidah', 'Chapainababganj', 'Joypurhat', 'Khagrachhari', 'Rangamati']\n"
          ],
          "name": "stdout"
        }
      ]
    },
    {
      "cell_type": "code",
      "metadata": {
        "id": "BMDn_r5dbFnO"
      },
      "source": [
        "# some small data management subroutines \n",
        "\n",
        "#offset = -85;\n",
        "#offset = 0;\n",
        "\n",
        "offset = -80;\n",
        "\n",
        "def findNational():\n",
        "  # adds up everything (skips any districts with missing data, this is a bit dangerous)\n",
        "  data_DHK = data[data['district']=='Dhaka'];\n",
        "  dates = data_DHK['test_date'][offset:].to_list();\n",
        "  tests = np.zeros(len(dates));\n",
        "  deltaCases = np.zeros(len(dates));\n",
        "\n",
        "  for district in districts:\n",
        "    #print(\"On district \" + district);\n",
        "    data_d = data[data['district']==district];\n",
        "    if (len(data_d['tests_nontraveller'][offset:]) == len(dates)): \n",
        "      tests=tests+np.array(np.floor(data_d['tests_nontraveller'].rolling(window=7).mean()))[offset:];\n",
        "      deltaCases = deltaCases+np.array(np.floor(data_d['cases_nontraveller'].rolling(window=7).mean()))[offset:];\n",
        "    else:\n",
        "      print('Skipping '+ district + 'due to missing dates.')\n",
        "\n",
        "  return(tests,deltaCases,dates);\n",
        "\n",
        "def findNationalExceptDHKCTG():\n",
        "  # adds up everything (skips any districts with missing data, this is a bit dangerous) \n",
        "  data_DHK = data[data['district']=='Dhaka'];\n",
        "  dates = data_DHK['test_date'][offset:].to_list();\n",
        "  tests = np.zeros(len(dates));\n",
        "  deltaCases = np.zeros(len(dates));\n",
        "  \n",
        "  for district in districts:\n",
        "    #print(\"On district \" + district);\n",
        "    data_d = data[data['district']==district];\n",
        "    if (district != 'Dhaka' and district != 'Chattogram'):\n",
        "      if (len(data_d['tests_nontraveller'][offset:]) == len(dates)): \n",
        "        tests=tests+np.array(np.floor(data_d['tests_nontraveller'].rolling(window=7).mean()))[offset:];\n",
        "        deltaCases = deltaCases+np.array(np.floor(data_d['cases_nontraveller'].rolling(window=7).mean()))[offset:];\n",
        "      else:\n",
        "        print('Skipping '+ district + 'due to missing dates.')\n",
        "\n",
        "  return(tests,deltaCases,dates);\n",
        "\n",
        "def findDistrict(district):\n",
        "  data_d = data[data['district']==district];\n",
        "  dates = data_d['test_date'][offset:].to_list();\n",
        "  tests=np.array(np.floor(data_d['tests_nontraveller'].rolling(window=7).mean()))[offset:];\n",
        "  deltaCases = np.array(np.floor(data_d['cases_nontraveller'].rolling(window=7).mean()))[offset:];\n",
        "  return(tests,deltaCases,dates);"
      ],
      "execution_count": 5,
      "outputs": []
    },
    {
      "cell_type": "code",
      "metadata": {
        "id": "vFwMGsjoOxVb",
        "colab": {
          "base_uri": "https://localhost:8080/",
          "height": 1000
        },
        "outputId": "ba64832d-ae55-444c-b5cf-deba43b905c0"
      },
      "source": [
        "# okay, now time to go through them all\n",
        "for d in districts_todo:\n",
        "  #d = 'Chattogram';\n",
        "  print('Currently on '+d);\n",
        "\n",
        "  # make the directory if not yet ready\n",
        "  folder = './drive/My Drive/Rt tracker/Output files/a2i data exchange/output/'+date.today().strftime(\"%Y-%m-%d\");\n",
        "\n",
        "  if (not os.path.isdir(folder)):\n",
        "    os.mkdir(folder);\n",
        "  \n",
        "  # import the data\n",
        "  if (d == 'National'):\n",
        "    (tests,deltaCases,dates) = findNational();\n",
        "  elif (d == 'National except CTG DHK'):\n",
        "    (tests,deltaCases,dates) = findNationalExceptDHKCTG();\n",
        "  else:\n",
        "    (tests,deltaCases,dates) = findDistrict(d);\n",
        "\n",
        "  # check that this works\n",
        "  (Rtfinal,hdi_low,hdi_high,doubling_rate) = findRts(tests,deltaCases,dates);\n",
        "\n",
        "  all_Rts.append(Rtfinal);\n",
        "  all_hdis_low.append(hdi_low);\n",
        "  all_hdis_high.append(hdi_high);\n",
        "  all_doublings.append(doubling_rate);\n",
        "\n",
        "  # okay, now its all over --- save the output to a CSV file; do this in the loop rather than at the end so that we can see it as we go. \n",
        "  df = pd.DataFrame(list(zip(districts_todo, all_Rts,all_hdis_low,all_hdis_high,all_doublings)),\n",
        "                columns =['District name', 'R(t)','HDI low','HDI high','Doubling time']);\n",
        "  df.to_csv(folder+'/'+date.today().strftime(\"%Y-%m-%d\")+'-summary.csv');\n",
        "\n"
      ],
      "execution_count": 6,
      "outputs": [
        {
          "output_type": "stream",
          "text": [
            "Currently on National\n"
          ],
          "name": "stdout"
        },
        {
          "output_type": "stream",
          "text": [
            "Auto-assigning NUTS sampler...\n",
            "Initializing NUTS using jitter+adapt_diag...\n",
            "Sequential sampling (2 chains in 1 job)\n",
            "NUTS: [It, Rt, sigma]\n",
            "Sampling chain 0, 0 divergences: 100%|██████████| 5000/5000 [00:55<00:00, 89.78it/s]\n",
            "Sampling chain 1, 0 divergences: 100%|██████████| 5000/5000 [00:50<00:00, 99.32it/s] \n",
            "The number of effective samples is smaller than 10% for some parameters.\n",
            "/usr/local/lib/python3.7/dist-packages/arviz/stats/stats.py:496: FutureWarning: hdi currently interprets 2d data as (draw, shape) but this will change in a future release to (chain, draw) for coherence with other functions\n",
            "  FutureWarning,\n"
          ],
          "name": "stderr"
        },
        {
          "output_type": "display_data",
          "data": {
            "image/png": "[encoded data removed]",
            "text/plain": [
              "<Figure size 432x288 with 1 Axes>"
            ]
          },
          "metadata": {
            "tags": [],
            "needs_background": "light"
          }
        },
        {
          "output_type": "stream",
          "text": [
            "Currently on National except CTG DHK\n"
          ],
          "name": "stdout"
        },
        {
          "output_type": "stream",
          "text": [
            "Auto-assigning NUTS sampler...\n",
            "Initializing NUTS using jitter+adapt_diag...\n",
            "Sequential sampling (2 chains in 1 job)\n",
            "NUTS: [It, Rt, sigma]\n",
            "Sampling chain 0, 0 divergences: 100%|██████████| 5000/5000 [01:09<00:00, 71.51it/s]\n",
            "Sampling chain 1, 0 divergences: 100%|██████████| 5000/5000 [01:10<00:00, 70.54it/s]\n",
            "The number of effective samples is smaller than 10% for some parameters.\n",
            "/usr/local/lib/python3.7/dist-packages/arviz/stats/stats.py:496: FutureWarning: hdi currently interprets 2d data as (draw, shape) but this will change in a future release to (chain, draw) for coherence with other functions\n",
            "  FutureWarning,\n"
          ],
          "name": "stderr"
        },
        {
          "output_type": "display_data",
          "data": {
            "image/png": "[encoded data removed]",
            "text/plain": [
              "<Figure size 432x288 with 1 Axes>"
            ]
          },
          "metadata": {
            "tags": [],
            "needs_background": "light"
          }
        },
        {
          "output_type": "stream",
          "text": [
            "Currently on Chattogram\n"
          ],
          "name": "stdout"
        },
        {
          "output_type": "stream",
          "text": [
            "Auto-assigning NUTS sampler...\n",
            "Initializing NUTS using jitter+adapt_diag...\n",
            "Sequential sampling (2 chains in 1 job)\n",
            "NUTS: [It, Rt, sigma]\n",
            "Sampling chain 0, 0 divergences: 100%|██████████| 5000/5000 [02:03<00:00, 40.52it/s]\n",
            "Sampling chain 1, 0 divergences: 100%|██████████| 5000/5000 [01:59<00:00, 41.96it/s]\n",
            "The estimated number of effective samples is smaller than 200 for some parameters.\n",
            "/usr/local/lib/python3.7/dist-packages/arviz/stats/stats.py:496: FutureWarning: hdi currently interprets 2d data as (draw, shape) but this will change in a future release to (chain, draw) for coherence with other functions\n",
            "  FutureWarning,\n"
          ],
          "name": "stderr"
        },
        {
          "output_type": "display_data",
          "data": {
            "image/png": "[encoded data removed]",
            "text/plain": [
              "<Figure size 432x288 with 1 Axes>"
            ]
          },
          "metadata": {
            "tags": [],
            "needs_background": "light"
          }
        },
        {
          "output_type": "stream",
          "text": [
            "Currently on Dhaka\n"
          ],
          "name": "stdout"
        },
        {
          "output_type": "stream",
          "text": [
            "Auto-assigning NUTS sampler...\n",
            "Initializing NUTS using jitter+adapt_diag...\n",
            "Sequential sampling (2 chains in 1 job)\n",
            "NUTS: [It, Rt, sigma]\n",
            "Sampling chain 0, 0 divergences: 100%|██████████| 5000/5000 [01:05<00:00, 75.77it/s]\n",
            "Sampling chain 1, 0 divergences: 100%|██████████| 5000/5000 [01:06<00:00, 75.16it/s]\n",
            "The number of effective samples is smaller than 10% for some parameters.\n",
            "/usr/local/lib/python3.7/dist-packages/arviz/stats/stats.py:496: FutureWarning: hdi currently interprets 2d data as (draw, shape) but this will change in a future release to (chain, draw) for coherence with other functions\n",
            "  FutureWarning,\n"
          ],
          "name": "stderr"
        },
        {
          "output_type": "display_data",
          "data": {
            "image/png": "[encoded data removed]",
            "text/plain": [
              "<Figure size 432x288 with 1 Axes>"
            ]
          },
          "metadata": {
            "tags": [],
            "needs_background": "light"
          }
        },
        {
          "output_type": "stream",
          "text": [
            "Currently on Khulna\n"
          ],
          "name": "stdout"
        },
        {
          "output_type": "stream",
          "text": [
            "Auto-assigning NUTS sampler...\n",
            "Initializing NUTS using jitter+adapt_diag...\n",
            "Sequential sampling (2 chains in 1 job)\n",
            "NUTS: [It, Rt, sigma]\n",
            "Sampling chain 0, 0 divergences: 100%|██████████| 5000/5000 [07:10<00:00, 11.62it/s]\n",
            "Sampling chain 1, 0 divergences: 100%|██████████| 5000/5000 [07:49<00:00, 10.66it/s]\n",
            "The estimated number of effective samples is smaller than 200 for some parameters.\n",
            "/usr/local/lib/python3.7/dist-packages/arviz/stats/stats.py:496: FutureWarning: hdi currently interprets 2d data as (draw, shape) but this will change in a future release to (chain, draw) for coherence with other functions\n",
            "  FutureWarning,\n"
          ],
          "name": "stderr"
        },
        {
          "output_type": "display_data",
          "data": {
            "image/png": "[encoded data removed]",
            "text/plain": [
              "<Figure size 432x288 with 1 Axes>"
            ]
          },
          "metadata": {
            "tags": [],
            "needs_background": "light"
          }
        },
        {
          "output_type": "stream",
          "text": [
            "Currently on Rajshahi\n"
          ],
          "name": "stdout"
        },
        {
          "output_type": "stream",
          "text": [
            "Auto-assigning NUTS sampler...\n",
            "Initializing NUTS using jitter+adapt_diag...\n",
            "Sequential sampling (2 chains in 1 job)\n",
            "NUTS: [It, Rt, sigma]\n",
            "Sampling chain 0, 0 divergences: 100%|██████████| 5000/5000 [03:34<00:00, 23.35it/s]\n",
            "Sampling chain 1, 0 divergences: 100%|██████████| 5000/5000 [03:38<00:00, 22.91it/s]\n",
            "The estimated number of effective samples is smaller than 200 for some parameters.\n",
            "/usr/local/lib/python3.7/dist-packages/arviz/stats/stats.py:496: FutureWarning: hdi currently interprets 2d data as (draw, shape) but this will change in a future release to (chain, draw) for coherence with other functions\n",
            "  FutureWarning,\n"
          ],
          "name": "stderr"
        },
        {
          "output_type": "display_data",
          "data": {
            "image/png": "[encoded data removed]",
            "text/plain": [
              "<Figure size 432x288 with 1 Axes>"
            ]
          },
          "metadata": {
            "tags": [],
            "needs_background": "light"
          }
        }
      ]
    },
    {
      "cell_type": "code",
      "metadata": {
        "id": "kLOh2kxBuu91",
        "colab": {
          "base_uri": "https://localhost:8080/"
        },
        "outputId": "25733b64-9c20-44b8-d05a-88ec29f388fc"
      },
      "source": [
        "(testsC,casesC,datesC)=findDistrict('Chattogram')\n",
        "(testsD,casesD,datesD)=findDistrict('Dhaka')\n",
        "(tests,cases,dates)=findNational()\n",
        "(testsX,casesX,dates) = findNationalExceptDHKCTG()\n",
        "\n",
        "casesX + casesC + casesD - cases\n",
        "testsX + testsC + testsD - tests"
      ],
      "execution_count": 7,
      "outputs": [
        {
          "output_type": "execute_result",
          "data": {
            "text/plain": [
              "array([0., 0., 0., 0., 0., 0., 0., 0., 0., 0., 0., 0., 0., 0., 0., 0., 0.,\n",
              "       0., 0., 0., 0., 0., 0., 0., 0., 0., 0., 0., 0., 0., 0., 0., 0., 0.,\n",
              "       0., 0., 0., 0., 0., 0., 0., 0., 0., 0., 0., 0., 0., 0., 0., 0., 0.,\n",
              "       0., 0., 0., 0., 0., 0., 0., 0., 0., 0., 0., 0., 0., 0., 0., 0., 0.,\n",
              "       0., 0., 0., 0., 0., 0., 0., 0., 0., 0., 0., 0.])"
            ]
          },
          "metadata": {
            "tags": []
          },
          "execution_count": 7
        }
      ]
    },
    {
      "cell_type": "code",
      "metadata": {
        "colab": {
          "base_uri": "https://localhost:8080/"
        },
        "id": "CXXSne_Vib8r",
        "outputId": "2fa4aea2-2c75-4012-ecc1-69b369c55b06"
      },
      "source": [
        "districts"
      ],
      "execution_count": 8,
      "outputs": [
        {
          "output_type": "execute_result",
          "data": {
            "text/plain": [
              "['Barguna',\n",
              " 'Barishal',\n",
              " 'Patuakhali',\n",
              " 'Pirojpur',\n",
              " 'Chattogram',\n",
              " 'Dinajpur',\n",
              " 'Narayanganj',\n",
              " 'Natore',\n",
              " 'Dhaka',\n",
              " 'Pabna',\n",
              " 'Noakhali',\n",
              " 'Naogaon',\n",
              " 'Thakurgaon',\n",
              " 'Gazipur',\n",
              " 'Sirajganj',\n",
              " 'Bogura',\n",
              " 'Bhola',\n",
              " 'Chuadanga',\n",
              " 'Jhalokati',\n",
              " 'Meherpur',\n",
              " 'Rajbari',\n",
              " 'Gaibandha',\n",
              " 'Sylhet',\n",
              " 'Faridpur',\n",
              " 'Gopalganj',\n",
              " 'Magura',\n",
              " 'Narsingdi',\n",
              " 'Panchagarh',\n",
              " 'Coxs Bazar',\n",
              " 'Jamalpur',\n",
              " 'Kishoreganj',\n",
              " 'Moulvibazar',\n",
              " 'Mymensingh',\n",
              " 'Netrakona',\n",
              " 'Rajshahi',\n",
              " 'Sunamganj',\n",
              " 'Tangail',\n",
              " 'Chandpur',\n",
              " 'Cumilla',\n",
              " 'Sherpur',\n",
              " 'Kurigram',\n",
              " 'Madaripur',\n",
              " 'Rangpur',\n",
              " 'Satkhira',\n",
              " 'Bandarban',\n",
              " 'Brahmanbaria',\n",
              " 'Habiganj',\n",
              " 'Kushtia',\n",
              " 'Lalmonirhat',\n",
              " 'Manikganj',\n",
              " 'Nilphamari',\n",
              " 'Shariatpur',\n",
              " 'Bagerhat',\n",
              " 'Jashore',\n",
              " 'Khulna',\n",
              " 'Feni',\n",
              " 'Lakshmipur',\n",
              " 'Munshiganj',\n",
              " 'Narail',\n",
              " 'Jhenaidah',\n",
              " 'Chapainababganj',\n",
              " 'Joypurhat',\n",
              " 'Khagrachhari',\n",
              " 'Rangamati']"
            ]
          },
          "metadata": {
            "tags": []
          },
          "execution_count": 8
        }
      ]
    },
    {
      "cell_type": "code",
      "metadata": {
        "colab": {
          "base_uri": "https://localhost:8080/"
        },
        "id": "7WsiSiJSjohf",
        "outputId": "ebd1c785-942d-4079-c382-c501b9f661de"
      },
      "source": [
        "districts"
      ],
      "execution_count": 9,
      "outputs": [
        {
          "output_type": "execute_result",
          "data": {
            "text/plain": [
              "['Barguna',\n",
              " 'Barishal',\n",
              " 'Patuakhali',\n",
              " 'Pirojpur',\n",
              " 'Chattogram',\n",
              " 'Dinajpur',\n",
              " 'Narayanganj',\n",
              " 'Natore',\n",
              " 'Dhaka',\n",
              " 'Pabna',\n",
              " 'Noakhali',\n",
              " 'Naogaon',\n",
              " 'Thakurgaon',\n",
              " 'Gazipur',\n",
              " 'Sirajganj',\n",
              " 'Bogura',\n",
              " 'Bhola',\n",
              " 'Chuadanga',\n",
              " 'Jhalokati',\n",
              " 'Meherpur',\n",
              " 'Rajbari',\n",
              " 'Gaibandha',\n",
              " 'Sylhet',\n",
              " 'Faridpur',\n",
              " 'Gopalganj',\n",
              " 'Magura',\n",
              " 'Narsingdi',\n",
              " 'Panchagarh',\n",
              " 'Coxs Bazar',\n",
              " 'Jamalpur',\n",
              " 'Kishoreganj',\n",
              " 'Moulvibazar',\n",
              " 'Mymensingh',\n",
              " 'Netrakona',\n",
              " 'Rajshahi',\n",
              " 'Sunamganj',\n",
              " 'Tangail',\n",
              " 'Chandpur',\n",
              " 'Cumilla',\n",
              " 'Sherpur',\n",
              " 'Kurigram',\n",
              " 'Madaripur',\n",
              " 'Rangpur',\n",
              " 'Satkhira',\n",
              " 'Bandarban',\n",
              " 'Brahmanbaria',\n",
              " 'Habiganj',\n",
              " 'Kushtia',\n",
              " 'Lalmonirhat',\n",
              " 'Manikganj',\n",
              " 'Nilphamari',\n",
              " 'Shariatpur',\n",
              " 'Bagerhat',\n",
              " 'Jashore',\n",
              " 'Khulna',\n",
              " 'Feni',\n",
              " 'Lakshmipur',\n",
              " 'Munshiganj',\n",
              " 'Narail',\n",
              " 'Jhenaidah',\n",
              " 'Chapainababganj',\n",
              " 'Joypurhat',\n",
              " 'Khagrachhari',\n",
              " 'Rangamati']"
            ]
          },
          "metadata": {
            "tags": []
          },
          "execution_count": 9
        }
      ]
    },
    {
      "cell_type": "code",
      "metadata": {
        "colab": {
          "base_uri": "https://localhost:8080/"
        },
        "id": "rusjBuXHlUAB",
        "outputId": "e25fb782-0566-452d-ae1c-50209f891ccc"
      },
      "source": [
        "len(districts)"
      ],
      "execution_count": 10,
      "outputs": [
        {
          "output_type": "execute_result",
          "data": {
            "text/plain": [
              "64"
            ]
          },
          "metadata": {
            "tags": []
          },
          "execution_count": 10
        }
      ]
    },
    {
      "cell_type": "code",
      "metadata": {
        "id": "97IViV3Tm2gS"
      },
      "source": [
        "data['district'] = data['district'].str.title()"
      ],
      "execution_count": 11,
      "outputs": []
    },
    {
      "cell_type": "code",
      "metadata": {
        "colab": {
          "base_uri": "https://localhost:8080/"
        },
        "id": "edUJQYCVnoIU",
        "outputId": "4c682431-6ca2-4045-a010-0aed912fa877"
      },
      "source": [
        "len(districts)"
      ],
      "execution_count": 12,
      "outputs": [
        {
          "output_type": "execute_result",
          "data": {
            "text/plain": [
              "64"
            ]
          },
          "metadata": {
            "tags": []
          },
          "execution_count": 12
        }
      ]
    },
    {
      "cell_type": "code",
      "metadata": {
        "colab": {
          "base_uri": "https://localhost:8080/"
        },
        "id": "WXmqMeKfnvxK",
        "outputId": "0402e018-c835-4600-8cdc-c6c02ac46515"
      },
      "source": [
        "data['district'].str.title()"
      ],
      "execution_count": 13,
      "outputs": [
        {
          "output_type": "execute_result",
          "data": {
            "text/plain": [
              "0           Barguna\n",
              "1          Barishal\n",
              "2        Patuakhali\n",
              "3          Pirojpur\n",
              "4        Chattogram\n",
              "            ...    \n",
              "21718     Sirajganj\n",
              "21719     Sunamganj\n",
              "21720        Sylhet\n",
              "21721       Tangail\n",
              "21722    Thakurgaon\n",
              "Name: district, Length: 21723, dtype: object"
            ]
          },
          "metadata": {
            "tags": []
          },
          "execution_count": 13
        }
      ]
    },
    {
      "cell_type": "code",
      "metadata": {
        "colab": {
          "base_uri": "https://localhost:8080/"
        },
        "id": "291aXX3-n0Ie",
        "outputId": "375b973a-f65b-4836-c4bf-30562b6e02a0"
      },
      "source": [
        "len(districts)"
      ],
      "execution_count": 14,
      "outputs": [
        {
          "output_type": "execute_result",
          "data": {
            "text/plain": [
              "64"
            ]
          },
          "metadata": {
            "tags": []
          },
          "execution_count": 14
        }
      ]
    },
    {
      "cell_type": "code",
      "metadata": {
        "id": "6PDsIqoAn_Fr",
        "colab": {
          "base_uri": "https://localhost:8080/"
        },
        "outputId": "ec7b0ab6-d05d-4444-8a6e-50d06490616c"
      },
      "source": [
        "findNational()"
      ],
      "execution_count": 15,
      "outputs": [
        {
          "output_type": "execute_result",
          "data": {
            "text/plain": [
              "(array([ 6565.,  6686.,  6615.,  6786.,  6739.,  6677.,  6795.,  6861.,\n",
              "         6813.,  6823.,  6779.,  6818.,  6827.,  6696.,  6574.,  6553.,\n",
              "         6495.,  6352.,  6185.,  5874.,  5835.,  5676.,  5562.,  5627.,\n",
              "         5655.,  5683.,  5952.,  5952.,  6029.,  6023.,  5863.,  5792.,\n",
              "         5704.,  5498.,  5471.,  5470.,  5424.,  5406.,  5461.,  5382.,\n",
              "         5377.,  5222.,  5228.,  5013.,  4758.,  4642.,  4711.,  4784.,\n",
              "         4903.,  4778.,  5003.,  5319.,  5413.,  5433.,  5312.,  5239.,\n",
              "         5373.,  5497.,  5510.,  5507.,  5597.,  5760.,  5898.,  6022.,\n",
              "         6275.,  6599.,  7142.,  7289.,  7462.,  7824.,  8112.,  8313.,\n",
              "         8776.,  8886.,  9366., 10365., 10746., 11173., 11403., 11239.]),\n",
              " array([ 617.,  608.,  580.,  584.,  569.,  574.,  561.,  542.,  527.,\n",
              "         533.,  514.,  498.,  477.,  469.,  454.,  437.,  417.,  401.,\n",
              "         384.,  362.,  350.,  343.,  333.,  326.,  321.,  311.,  318.,\n",
              "         309.,  298.,  290.,  281.,  270.,  271.,  259.,  260.,  259.,\n",
              "         266.,  261.,  269.,  268.,  268.,  270.,  270.,  255.,  257.,\n",
              "         248.,  250.,  257.,  259.,  265.,  295.,  315.,  339.,  370.,\n",
              "         393.,  403.,  434.,  460.,  489.,  533.,  574.,  635.,  685.,\n",
              "         749.,  859.,  955., 1054., 1156., 1250., 1346., 1449., 1514.,\n",
              "        1716., 1842., 1965., 2164., 2312., 2510., 2678., 2762.]),\n",
              " ['2021-01-09',\n",
              "  '2021-01-10',\n",
              "  '2021-01-11',\n",
              "  '2021-01-12',\n",
              "  '2021-01-13',\n",
              "  '2021-01-14',\n",
              "  '2021-01-15',\n",
              "  '2021-01-16',\n",
              "  '2021-01-17',\n",
              "  '2021-01-18',\n",
              "  '2021-01-19',\n",
              "  '2021-01-20',\n",
              "  '2021-01-21',\n",
              "  '2021-01-22',\n",
              "  '2021-01-23',\n",
              "  '2021-01-24',\n",
              "  '2021-01-25',\n",
              "  '2021-01-26',\n",
              "  '2021-01-27',\n",
              "  '2021-01-28',\n",
              "  '2021-01-29',\n",
              "  '2021-01-30',\n",
              "  '2021-01-31',\n",
              "  '2021-02-01',\n",
              "  '2021-02-02',\n",
              "  '2021-02-03',\n",
              "  '2021-02-04',\n",
              "  '2021-02-05',\n",
              "  '2021-02-06',\n",
              "  '2021-02-07',\n",
              "  '2021-02-08',\n",
              "  '2021-02-09',\n",
              "  '2021-02-10',\n",
              "  '2021-02-11',\n",
              "  '2021-02-12',\n",
              "  '2021-02-13',\n",
              "  '2021-02-14',\n",
              "  '2021-02-15',\n",
              "  '2021-02-16',\n",
              "  '2021-02-17',\n",
              "  '2021-02-18',\n",
              "  '2021-02-19',\n",
              "  '2021-02-20',\n",
              "  '2021-02-21',\n",
              "  '2021-02-22',\n",
              "  '2021-02-23',\n",
              "  '2021-02-24',\n",
              "  '2021-02-25',\n",
              "  '2021-02-26',\n",
              "  '2021-02-27',\n",
              "  '2021-02-28',\n",
              "  '2021-03-01',\n",
              "  '2021-03-02',\n",
              "  '2021-03-03',\n",
              "  '2021-03-04',\n",
              "  '2021-03-05',\n",
              "  '2021-03-06',\n",
              "  '2021-03-07',\n",
              "  '2021-03-08',\n",
              "  '2021-03-09',\n",
              "  '2021-03-10',\n",
              "  '2021-03-11',\n",
              "  '2021-03-12',\n",
              "  '2021-03-13',\n",
              "  '2021-03-14',\n",
              "  '2021-03-15',\n",
              "  '2021-03-16',\n",
              "  '2021-03-17',\n",
              "  '2021-03-18',\n",
              "  '2021-03-19',\n",
              "  '2021-03-20',\n",
              "  '2021-03-21',\n",
              "  '2021-03-22',\n",
              "  '2021-03-23',\n",
              "  '2021-03-24',\n",
              "  '2021-03-25',\n",
              "  '2021-03-26',\n",
              "  '2021-03-27',\n",
              "  '2021-03-28',\n",
              "  '2021-03-29'])"
            ]
          },
          "metadata": {
            "tags": []
          },
          "execution_count": 15
        }
      ]
    },
    {
      "cell_type": "code",
      "metadata": {
        "id": "Mziyb1Zl5Q6t"
      },
      "source": [
        "findNational();"
      ],
      "execution_count": 16,
      "outputs": []
    },
    {
      "cell_type": "code",
      "metadata": {
        "id": "YJFtJaQg5dJc"
      },
      "source": [
        ""
      ],
      "execution_count": 16,
      "outputs": []
    }
  ]
}